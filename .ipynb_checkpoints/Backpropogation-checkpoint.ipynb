{
 "cells": [
  {
   "cell_type": "code",
   "execution_count": 1,
   "metadata": {},
   "outputs": [],
   "source": [
    "#Backpropogation Algorithm"
   ]
  },
  {
   "cell_type": "code",
   "execution_count": 23,
   "metadata": {},
   "outputs": [
    {
     "name": "stdout",
     "output_type": "stream",
     "text": [
      "[[0.66666667 1.        ]\n",
      " [0.33333333 0.55555556]\n",
      " [1.         0.66666667]]\n",
      "[[0.92]\n",
      " [0.86]\n",
      " [0.89]]\n"
     ]
    }
   ],
   "source": [
    "import numpy as np\n",
    "X = np.array(([2, 9], [1, 5], [3, 6]), dtype=float)\n",
    "Y = np.array(([92], [86], [89]), dtype=float)\n",
    "X = X/np.amax(X, axis=0)\n",
    "actual_output = Y / 100\n",
    "print(X)\n",
    "print(actual_output)"
   ]
  },
  {
   "cell_type": "code",
   "execution_count": 24,
   "metadata": {},
   "outputs": [],
   "source": [
    "def sigmoid(x):\n",
    "    return 1/(1 + np.exp(-x))\n",
    "\n",
    "def derivatives_sigmoid(x):\n",
    "    return x * (1 - x)"
   ]
  },
  {
   "cell_type": "code",
   "execution_count": 25,
   "metadata": {},
   "outputs": [],
   "source": [
    "#initialization\n",
    "epoch = 1000\n",
    "learning_rate = 0.15\n",
    "inputlayer_neurons = 2\n",
    "hiddenlayer_neurons = 3\n",
    "outputlayer_neurons = 1\n",
    "\n",
    "# Weight of hidden layer\n",
    "wh = np.random.uniform(size=(inputlayer_neurons, hiddenlayer_neurons))\n",
    "# Bias of hidden layer\n",
    "bh = np.random.uniform(size=(1, hiddenlayer_neurons))\n",
    "# Weight of output layer\n",
    "wo = np.random.uniform(size=(hiddenlayer_neurons, outputlayer_neurons))\n",
    "# Bias of output layer\n",
    "bo = np.random.uniform(size=(1, outputlayer_neurons))"
   ]
  },
  {
   "cell_type": "code",
   "execution_count": 26,
   "metadata": {},
   "outputs": [],
   "source": [
    "for i in range(epoch):\n",
    "    # Sum of (input * weights in hidden layer) + bias of hidden\n",
    "    net_h = np.dot(X, wh) + bh\n",
    "\n",
    "    # Apply Activation Function\n",
    "    sigma_h = sigmoid(net_h)\n",
    "    # Input to O/P Layer = (O/P of Hidden Layer * weight of O/P Layer) + bias of O/P layer\n",
    "    net_o = np.dot(sigma_h, wo) + bo\n",
    "    # Apply Activation Function\n",
    "    output = sigmoid(net_o)\n",
    "    \n",
    " #Backpropagation\n",
    " # Error at Output layer\n",
    "    eo = actual_output-output # Error at o/p\n",
    "    outgrad = derivatives_sigmoid(output)\n",
    "    d_output = eo* outgrad # Errj=Oj(1-Oj)(Tj-Oj)\n",
    "    #print(\"the d_output is\",d_output)\n",
    "\n",
    "# Error at Hidden later\n",
    "    eh = d_output.dot(wo.T) # .T means transpose\n",
    "    hiddengrad = derivatives_sigmoid(sigma_h) # How much hidden layer wts contributed to error\n",
    "    d_hidden = eh * hiddengrad\n",
    "    \n",
    "    wo += sigma_h.T.dot(d_output) *learning_rate # Dotproduct of nextlayererror and currentlayerop\n",
    "    wh += X.T.dot(d_hidden) *learning_rate"
   ]
  },
  {
   "cell_type": "code",
   "execution_count": null,
   "metadata": {},
   "outputs": [],
   "source": []
  }
 ],
 "metadata": {
  "kernelspec": {
   "display_name": "Python 3",
   "language": "python",
   "name": "python3"
  },
  "language_info": {
   "codemirror_mode": {
    "name": "ipython",
    "version": 3
   },
   "file_extension": ".py",
   "mimetype": "text/x-python",
   "name": "python",
   "nbconvert_exporter": "python",
   "pygments_lexer": "ipython3",
   "version": "3.8.5"
  },
  "vscode": {
   "interpreter": {
    "hash": "1a1af0ee75eeea9e2e1ee996c87e7a2b11a0bebd85af04bb136d915cefc0abce"
   }
  }
 },
 "nbformat": 4,
 "nbformat_minor": 5
}
