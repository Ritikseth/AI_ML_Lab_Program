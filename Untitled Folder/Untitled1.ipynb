{
 "cells": [
  {
   "cell_type": "markdown",
   "metadata": {},
   "source": [
    "ANN"
   ]
  },
  {
   "cell_type": "code",
   "execution_count": 22,
   "metadata": {},
   "outputs": [],
   "source": [
    "import numpy as np"
   ]
  },
  {
   "cell_type": "code",
   "execution_count": 23,
   "metadata": {},
   "outputs": [
    {
     "name": "stdout",
     "output_type": "stream",
     "text": [
      "[[0.66666667 1.        ]\n",
      " [0.33333333 0.55555556]\n",
      " [1.         0.66666667]]\n",
      "[[0.92]\n",
      " [0.86]\n",
      " [0.89]]\n"
     ]
    }
   ],
   "source": [
    "x = np.array(([2,9],[1,5],[3,6]),dtype=float)\n",
    "y = np.array(([92],[86],[89]),dtype = float)\n",
    "x = x/np.amax(x,axis=0)\n",
    "actual_output = y/100\n",
    "\n",
    "print(x)\n",
    "print(actual_output)"
   ]
  },
  {
   "cell_type": "code",
   "execution_count": 24,
   "metadata": {},
   "outputs": [],
   "source": [
    "def sigmoid(x):\n",
    "    return 1/(1+np.exp(-x))\n",
    "def derivative_sigmoid(x):\n",
    "    return x*(1-x)"
   ]
  },
  {
   "cell_type": "code",
   "execution_count": 25,
   "metadata": {},
   "outputs": [],
   "source": [
    "epoch = 1000\n",
    "learning_rate = 0.15\n",
    "inputlayer_neuron = 2\n",
    "hiddenlayer_neuron = 3\n",
    "outlayer_neuron = 1\n",
    "wh = np.random.uniform(size=(inputlayer_neuron,hiddenlayer_neuron))\n",
    "bh = np.random.uniform(size=(1,hiddenlayer_neuron))\n",
    "wo = np.random.uniform(size=(hiddenlayer_neuron,outlayer_neuron))\n",
    "bo = np.random.uniform(size=(1,outlayer_neuron))"
   ]
  },
  {
   "cell_type": "code",
   "execution_count": 28,
   "metadata": {},
   "outputs": [],
   "source": [
    "for i in range(epoch):\n",
    "    net_h = np.dot(x,wh)+bh\n",
    "    sigma_h = sigmoid(net_h)\n",
    "    \n",
    "    net_o = np.dot(sigma_h,wo)+bo\n",
    "    output  = sigmoid(net_o)\n",
    "    \n",
    "    eo = actual_output- output\n",
    "    outgrad = derivative_sigmoid(output)\n",
    "    d_output = eo*outgrad\n",
    "    \n",
    "    eh = d_output.dot(wo.T)\n",
    "    hiddengrad = derivative_sigmoid(sigma_h)\n",
    "    d_hidden = eh*hiddengrad\n",
    "    \n",
    "    wo+= sigma_h.T.dot(d_output)*learning_rate\n",
    "    wh+= x.T.dot(d_hidden)*learning_rate"
   ]
  },
  {
   "cell_type": "code",
   "execution_count": 29,
   "metadata": {},
   "outputs": [
    {
     "name": "stdout",
     "output_type": "stream",
     "text": [
      "Input: \n",
      " [[0.66666667 1.        ]\n",
      " [0.33333333 0.55555556]\n",
      " [1.         0.66666667]]\n",
      "\n",
      "Actual Output: \n",
      " [[0.92]\n",
      " [0.86]\n",
      " [0.89]]\n",
      "\n",
      "Predicted Output: \n",
      " [[0.89227119]\n",
      " [0.88531111]\n",
      " [0.89313878]]\n"
     ]
    }
   ],
   "source": [
    "print(f\"Input: \\n {x}\\n\")\n",
    "print(f\"Actual Output: \\n {actual_output}\\n\")\n",
    "print(f\"Predicted Output: \\n {output}\")"
   ]
  },
  {
   "cell_type": "code",
   "execution_count": null,
   "metadata": {},
   "outputs": [],
   "source": []
  }
 ],
 "metadata": {
  "kernelspec": {
   "display_name": "Python 3",
   "language": "python",
   "name": "python3"
  },
  "language_info": {
   "codemirror_mode": {
    "name": "ipython",
    "version": 3
   },
   "file_extension": ".py",
   "mimetype": "text/x-python",
   "name": "python",
   "nbconvert_exporter": "python",
   "pygments_lexer": "ipython3",
   "version": "3.8.5"
  }
 },
 "nbformat": 4,
 "nbformat_minor": 4
}
