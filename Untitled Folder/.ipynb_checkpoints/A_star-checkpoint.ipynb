{
 "cells": [
  {
   "cell_type": "code",
   "execution_count": 2,
   "metadata": {},
   "outputs": [
    {
     "name": "stdout",
     "output_type": "stream",
     "text": [
      "Path found:  ['A', 'B', 'D']\n"
     ]
    },
    {
     "data": {
      "text/plain": [
       "['A', 'B', 'D']"
      ]
     },
     "execution_count": 2,
     "metadata": {},
     "output_type": "execute_result"
    }
   ],
   "source": [
    "def get_neighbours(v):\n",
    "    return adjac_lis[v]\n",
    "def h(n):\n",
    "    H={'A':1,'B':1,'C':1,'D':1}\n",
    "    return H[n]\n",
    "def a_star_algorithm(start,stop):\n",
    "    open_lst = set([start])\n",
    "    closed_lst = set([])\n",
    "    dist = {}\n",
    "    prenode = {}\n",
    "    dist[start] = 0\n",
    "    prenode[start] = start\n",
    "    \n",
    "    while len(open_lst)>0:\n",
    "        n = None\n",
    "        for v in open_lst:\n",
    "            if n ==None or dist[v]+h(v)<dist[n]+h(n):\n",
    "                n=v\n",
    "        if n==None:\n",
    "            print(\"path does not exist\")\n",
    "            return None\n",
    "        if n==stop:\n",
    "            reconst_path=[]\n",
    "            while prenode[n]!=n:\n",
    "                reconst_path.append(n)\n",
    "                n = prenode[n]\n",
    "            reconst_path.append(start)\n",
    "            reconst_path.reverse()\n",
    "            print(\"Path found: \",reconst_path)\n",
    "            return reconst_path\n",
    "        for (m,weight) in get_neighbours(n):\n",
    "            if m not in open_lst and m not in closed_lst:\n",
    "                open_lst.add(m)\n",
    "                prenode[m] = n\n",
    "                dist[m] = dist[n]+weight\n",
    "            else:\n",
    "                if dist[m]>dist[n]+weight:\n",
    "                    dist[m] = dist[n] +weight\n",
    "                    prenode[m]=n\n",
    "                    if m in closed_lst:\n",
    "                        closed_lst.remove(m)\n",
    "                        open_lst.add(m)\n",
    "        open_lst.remove(n)\n",
    "        closed_lst.add(n)\n",
    "    print(\"Path doesnot exist\")\n",
    "    return None\n",
    "adjac_lis = {'A':[('B',1),('C',3),('D',7)],'B':[('D',5)],'C':[('D',12)]}\n",
    "a_star_algorithm('A','D')"
   ]
  },
  {
   "cell_type": "code",
   "execution_count": null,
   "metadata": {},
   "outputs": [],
   "source": []
  }
 ],
 "metadata": {
  "kernelspec": {
   "display_name": "Python 3",
   "language": "python",
   "name": "python3"
  },
  "language_info": {
   "codemirror_mode": {
    "name": "ipython",
    "version": 3
   },
   "file_extension": ".py",
   "mimetype": "text/x-python",
   "name": "python",
   "nbconvert_exporter": "python",
   "pygments_lexer": "ipython3",
   "version": "3.8.5"
  }
 },
 "nbformat": 4,
 "nbformat_minor": 4
}
