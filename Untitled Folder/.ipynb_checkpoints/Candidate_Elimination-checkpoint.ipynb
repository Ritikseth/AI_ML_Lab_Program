{
 "cells": [
  {
   "cell_type": "code",
   "execution_count": 1,
   "metadata": {},
   "outputs": [],
   "source": [
    "import pandas as pd\n",
    "import numpy as np"
   ]
  },
  {
   "cell_type": "code",
   "execution_count": 2,
   "metadata": {},
   "outputs": [],
   "source": [
    "def learn(concepts,target):\n",
    "    specific_h = concepts[0].copy()\n",
    "    general_h = [[\"?\" for i in range(len(specific_h))] for i in range(len(specific_h))]\n",
    "    print(\"\\nInitial specific_h: \",specific_h)\n",
    "    print(\"Initial general_h: \",general_h)\n",
    "    \n",
    "    for i,h in enumerate(concepts):\n",
    "        if target[i]==1:\n",
    "            for x in range(len(specific_h)):\n",
    "                if h[x]!=specific_h[x]:\n",
    "                    specific_h[x]=\"?\"\n",
    "                    general_h[x][x]='?'\n",
    "        if target[i]==0:\n",
    "            for x in range(len(specific_h)):\n",
    "                if h[x]!=specific_h[x]:\n",
    "                    general_h[x][x]=specific_h[x]\n",
    "                else:\n",
    "                    general_h[x][x]=\"?\"\n",
    "        print(\"\\nspecific_h: \",specific_h)\n",
    "        print(\"general_h: \",general_h)\n",
    "    indices= filter(lambda row: row!=['?','?','?','?','?','?'],general_h)\n",
    "    general_h = list(indices)\n",
    "    return specific_h,general_h"
   ]
  },
  {
   "cell_type": "code",
   "execution_count": 3,
   "metadata": {},
   "outputs": [
    {
     "name": "stdout",
     "output_type": "stream",
     "text": [
      "Dataset: \n",
      "        0     1       2       3     4       5  6\n",
      "0  sunny  warm  normal  strong  warm    same  1\n",
      "1  sunny  warm    high  strong  warm    same  1\n",
      "2  rainy  cold    high  strong  warm  change  0\n",
      "3  sunny  warm    high  strong  cool  change  1\n",
      "Concept: \n",
      " [['sunny' 'warm' 'normal' 'strong' 'warm' 'same']\n",
      " ['sunny' 'warm' 'high' 'strong' 'warm' 'same']\n",
      " ['rainy' 'cold' 'high' 'strong' 'warm' 'change']\n",
      " ['sunny' 'warm' 'high' 'strong' 'cool' 'change']]\n",
      "Target: \n",
      " [1 1 0 1]\n",
      "\n",
      "Initial specific_h:  ['sunny' 'warm' 'normal' 'strong' 'warm' 'same']\n",
      "Initial general_h:  [['?', '?', '?', '?', '?', '?'], ['?', '?', '?', '?', '?', '?'], ['?', '?', '?', '?', '?', '?'], ['?', '?', '?', '?', '?', '?'], ['?', '?', '?', '?', '?', '?'], ['?', '?', '?', '?', '?', '?']]\n",
      "\n",
      "specific_h:  ['sunny' 'warm' 'normal' 'strong' 'warm' 'same']\n",
      "general_h:  [['?', '?', '?', '?', '?', '?'], ['?', '?', '?', '?', '?', '?'], ['?', '?', '?', '?', '?', '?'], ['?', '?', '?', '?', '?', '?'], ['?', '?', '?', '?', '?', '?'], ['?', '?', '?', '?', '?', '?']]\n",
      "\n",
      "specific_h:  ['sunny' 'warm' '?' 'strong' 'warm' 'same']\n",
      "general_h:  [['?', '?', '?', '?', '?', '?'], ['?', '?', '?', '?', '?', '?'], ['?', '?', '?', '?', '?', '?'], ['?', '?', '?', '?', '?', '?'], ['?', '?', '?', '?', '?', '?'], ['?', '?', '?', '?', '?', '?']]\n",
      "\n",
      "specific_h:  ['sunny' 'warm' '?' 'strong' 'warm' 'same']\n",
      "general_h:  [['sunny', '?', '?', '?', '?', '?'], ['?', 'warm', '?', '?', '?', '?'], ['?', '?', '?', '?', '?', '?'], ['?', '?', '?', '?', '?', '?'], ['?', '?', '?', '?', '?', '?'], ['?', '?', '?', '?', '?', 'same']]\n",
      "\n",
      "specific_h:  ['sunny' 'warm' '?' 'strong' '?' '?']\n",
      "general_h:  [['sunny', '?', '?', '?', '?', '?'], ['?', 'warm', '?', '?', '?', '?'], ['?', '?', '?', '?', '?', '?'], ['?', '?', '?', '?', '?', '?'], ['?', '?', '?', '?', '?', '?'], ['?', '?', '?', '?', '?', '?']]\n",
      "\n",
      "Final Specific_h:  ['sunny' 'warm' '?' 'strong' '?' '?']\n",
      "Final general_h:  [['sunny', '?', '?', '?', '?', '?'], ['?', 'warm', '?', '?', '?', '?']]\n"
     ]
    }
   ],
   "source": [
    "data = pd.read_csv(\"../datasets/candidate.csv\",header=None)\n",
    "data = pd.DataFrame(data)\n",
    "print(\"Dataset: \\n\",data)\n",
    "concepts = np.array(data.iloc[:,0:-1])\n",
    "target = np.array(data.iloc[:,-1])\n",
    "print(\"Concept: \\n\",concepts)\n",
    "print(\"Target: \\n\",target)\n",
    "s_final,g_final = learn(concepts,target)\n",
    "print(\"\\nFinal Specific_h: \",s_final)\n",
    "print(\"Final general_h: \",g_final)"
   ]
  },
  {
   "cell_type": "code",
   "execution_count": null,
   "metadata": {},
   "outputs": [],
   "source": []
  }
 ],
 "metadata": {
  "kernelspec": {
   "display_name": "Python 3",
   "language": "python",
   "name": "python3"
  },
  "language_info": {
   "codemirror_mode": {
    "name": "ipython",
    "version": 3
   },
   "file_extension": ".py",
   "mimetype": "text/x-python",
   "name": "python",
   "nbconvert_exporter": "python",
   "pygments_lexer": "ipython3",
   "version": "3.8.5"
  }
 },
 "nbformat": 4,
 "nbformat_minor": 4
}
